{
 "cells": [
  {
   "cell_type": "markdown",
   "id": "972ba699-16a7-419a-9b7f-1fcc9ccec534",
   "metadata": {},
   "source": [
    "## **Laboratory Task 1**\n",
    "#### **DS Elective 4 - Deep Learning**\n",
    "\n",
    "**Name:** John Vincent Gamali <br>\n",
    "**Year & Section:** DS4A"
   ]
  },
  {
   "cell_type": "markdown",
   "id": "7e074262",
   "metadata": {},
   "source": [
    "**Instruction:** From the example scenario above, create additional two inquiries for each type of data analytics."
   ]
  },
  {
   "cell_type": "markdown",
   "id": "e36ab7d7-ffdb-4649-bfde-678ddaff7a97",
   "metadata": {},
   "source": [
    "#### **1. Descriptive**"
   ]
  },
  {
   "cell_type": "markdown",
   "id": "2ca05297",
   "metadata": {},
   "source": [
    "1. What is the total number of vaccine doses distributed in the Philippines over the last month?\n",
    "\n",
    "2. How does the vaccination rate vary across different regions?"
   ]
  },
  {
   "cell_type": "markdown",
   "id": "fd504066-6adb-4d5e-a337-a58f89869220",
   "metadata": {
    "jp-MarkdownHeadingCollapsed": true
   },
   "source": [
    "#### **2. Diagnostic**"
   ]
  },
  {
   "cell_type": "markdown",
   "id": "966547a9",
   "metadata": {},
   "source": [
    "1. What caused the slowdown in vaccine production during the previous quarter?\n",
    "\n",
    "2. Which factors led to the reduced vaccination turnout in rural communities?"
   ]
  },
  {
   "cell_type": "markdown",
   "id": "1233acbc",
   "metadata": {},
   "source": [
    "#### **3. Predictive**"
   ]
  },
  {
   "cell_type": "markdown",
   "id": "2bd68945",
   "metadata": {},
   "source": [
    "1. How many more vaccine doses will be required in the upcoming three months?\n",
    "\n",
    "2. What is the expected infection rate if 70% of the population gets vaccinated before the year ends?"
   ]
  },
  {
   "cell_type": "markdown",
   "id": "627e0d5e-640b-4982-aa5d-bbe9e33810b4",
   "metadata": {},
   "source": [
    "#### **4. Prescriptive**"
   ]
  },
  {
   "cell_type": "markdown",
   "id": "1efab4b9",
   "metadata": {},
   "source": [
    "1. Which distribution approach would best ensure timely vaccine delivery to remote areas?\n",
    "\n",
    "2. How can resources be allocated effectively to maximize vaccine coverage while keeping costs low?"
   ]
  }
 ],
 "metadata": {
  "kernelspec": {
   "display_name": "deeplearning",
   "language": "python",
   "name": "python3"
  },
  "language_info": {
   "codemirror_mode": {
    "name": "ipython",
    "version": 3
   },
   "file_extension": ".py",
   "mimetype": "text/x-python",
   "name": "python",
   "nbconvert_exporter": "python",
   "pygments_lexer": "ipython3",
   "version": "3.13.5"
  }
 },
 "nbformat": 4,
 "nbformat_minor": 5
}
