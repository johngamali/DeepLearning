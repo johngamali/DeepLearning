{
 "cells": [
  {
   "cell_type": "markdown",
   "id": "9ed4d33c",
   "metadata": {},
   "source": [
    "## **Laboratory Task 6**\n",
    "\n",
    "*John Vincent J. Gamali DS4A*\n",
    "\n",
    "<img src=\"https://i.ibb.co/BVsnJGTR/image.png\" width=\"1200\">"
   ]
  },
  {
   "cell_type": "code",
   "execution_count": 2,
   "id": "30054ed8",
   "metadata": {},
   "outputs": [],
   "source": [
    "#import libraries\n",
    "\n",
    "import torch\n",
    "import torch.nn as nn\n",
    "import torch.nn.functional as F"
   ]
  },
  {
   "cell_type": "code",
   "execution_count": 3,
   "id": "43a1da44",
   "metadata": {},
   "outputs": [],
   "source": [
    "class CNNModel(nn.Module):\n",
    "    def __init__(self):\n",
    "        super(CNNModel, self).__init__()\n",
    "\n",
    "        # Convolutional Layers\n",
    "        self.conv1 = nn.Conv2d(in_channels=1, out_channels=32, kernel_size=3, stride=1, padding=1)\n",
    "        self.pool1 = nn.MaxPool2d(kernel_size=2, stride=2, padding=1)\n",
    "\n",
    "        self.conv2 = nn.Conv2d(in_channels=32, out_channels=64, kernel_size=3, stride=1, padding=1)\n",
    "        self.conv3 = nn.Conv2d(in_channels=64, out_channels=128, kernel_size=3, stride=1, padding=1)\n",
    "        self.conv4 = nn.Conv2d(in_channels=128, out_channels=256, kernel_size=3, stride=1, padding=1)\n",
    "        self.pool2 = nn.MaxPool2d(kernel_size=2, stride=2, padding=0)\n",
    "\n",
    "        # Dropout\n",
    "        self.dropout = nn.Dropout(p=0.2)\n",
    "\n",
    "        # Fully Connected Layers\n",
    "        # Need to compute input features to FC1 after flattening\n",
    "        self.fc1 = nn.Linear(256 * 7 * 7, 1000)  # 28x28 should shrink to 7x7 after pooling\n",
    "        self.fc2 = nn.Linear(1000, 500)\n",
    "        self.fc3 = nn.Linear(500, 10)  # 10 classes\n",
    "\n",
    "    def forward(self, x):\n",
    "        # Conv + ReLU + Pooling\n",
    "        x = F.relu(self.conv1(x))\n",
    "        x = self.pool1(x)\n",
    "\n",
    "        x = F.relu(self.conv2(x))\n",
    "        x = F.relu(self.conv3(x))\n",
    "        x = F.relu(self.conv4(x))\n",
    "        x = self.pool2(x)\n",
    "\n",
    "        # Dropout\n",
    "        x = self.dropout(x)\n",
    "\n",
    "        # Flatten\n",
    "        x = x.view(x.size(0), -1)\n",
    "\n",
    "        # Fully connected + ReLU\n",
    "        x = F.relu(self.fc1(x))\n",
    "        x = F.relu(self.fc2(x))\n",
    "        x = self.fc3(x)\n",
    "\n",
    "        # Softmax - applied in loss function dapat\n",
    "        return x"
   ]
  },
  {
   "cell_type": "code",
   "execution_count": 5,
   "id": "aa77f893",
   "metadata": {},
   "outputs": [
    {
     "name": "stdout",
     "output_type": "stream",
     "text": [
      "torch.Size([1, 10])\n"
     ]
    }
   ],
   "source": [
    "model = CNNModel()\n",
    "x = torch.randn(1, 1, 28, 28)  # batch of 1, grayscale 28x28\n",
    "print(model(x).shape)  #we should expect: [1, 10]"
   ]
  },
  {
   "cell_type": "markdown",
   "id": "083d474d",
   "metadata": {},
   "source": [
    "## Integrating a Convolutional Neural Network (CNN) into a full PyTorch training pipeline."
   ]
  },
  {
   "cell_type": "code",
   "execution_count": 7,
   "id": "7eef3f90",
   "metadata": {},
   "outputs": [
    {
     "name": "stdout",
     "output_type": "stream",
     "text": [
      "Requirement already satisfied: torch in e:\\onedrive\\documents\\deeplearning\\gams-jupyterbook1\\jbook-env\\lib\\site-packages (2.8.0+cu129)\n",
      "Requirement already satisfied: torchvision in e:\\onedrive\\documents\\deeplearning\\gams-jupyterbook1\\jbook-env\\lib\\site-packages (0.23.0+cu129)\n",
      "Collecting matplotlib\n",
      "  Downloading matplotlib-3.10.7-cp313-cp313-win_amd64.whl.metadata (11 kB)\n",
      "Requirement already satisfied: filelock in e:\\onedrive\\documents\\deeplearning\\gams-jupyterbook1\\jbook-env\\lib\\site-packages (from torch) (3.13.1)\n",
      "Requirement already satisfied: typing-extensions>=4.10.0 in e:\\onedrive\\documents\\deeplearning\\gams-jupyterbook1\\jbook-env\\lib\\site-packages (from torch) (4.15.0)\n",
      "Requirement already satisfied: sympy>=1.13.3 in e:\\onedrive\\documents\\deeplearning\\gams-jupyterbook1\\jbook-env\\lib\\site-packages (from torch) (1.13.3)\n",
      "Requirement already satisfied: networkx in e:\\onedrive\\documents\\deeplearning\\gams-jupyterbook1\\jbook-env\\lib\\site-packages (from torch) (3.3)\n",
      "Requirement already satisfied: jinja2 in e:\\onedrive\\documents\\deeplearning\\gams-jupyterbook1\\jbook-env\\lib\\site-packages (from torch) (3.1.6)\n",
      "Requirement already satisfied: fsspec in e:\\onedrive\\documents\\deeplearning\\gams-jupyterbook1\\jbook-env\\lib\\site-packages (from torch) (2024.6.1)\n",
      "Requirement already satisfied: setuptools in e:\\onedrive\\documents\\deeplearning\\gams-jupyterbook1\\jbook-env\\lib\\site-packages (from torch) (80.9.0)\n",
      "Requirement already satisfied: numpy in e:\\onedrive\\documents\\deeplearning\\gams-jupyterbook1\\jbook-env\\lib\\site-packages (from torchvision) (2.3.3)\n",
      "Requirement already satisfied: pillow!=8.3.*,>=5.3.0 in e:\\onedrive\\documents\\deeplearning\\gams-jupyterbook1\\jbook-env\\lib\\site-packages (from torchvision) (11.0.0)\n",
      "Collecting contourpy>=1.0.1 (from matplotlib)\n",
      "  Downloading contourpy-1.3.3-cp313-cp313-win_amd64.whl.metadata (5.5 kB)\n",
      "Collecting cycler>=0.10 (from matplotlib)\n",
      "  Using cached cycler-0.12.1-py3-none-any.whl.metadata (3.8 kB)\n",
      "Collecting fonttools>=4.22.0 (from matplotlib)\n",
      "  Downloading fonttools-4.60.1-cp313-cp313-win_amd64.whl.metadata (114 kB)\n",
      "Collecting kiwisolver>=1.3.1 (from matplotlib)\n",
      "  Downloading kiwisolver-1.4.9-cp313-cp313-win_amd64.whl.metadata (6.4 kB)\n",
      "Requirement already satisfied: packaging>=20.0 in e:\\onedrive\\documents\\deeplearning\\gams-jupyterbook1\\jbook-env\\lib\\site-packages (from matplotlib) (25.0)\n",
      "Collecting pyparsing>=3 (from matplotlib)\n",
      "  Downloading pyparsing-3.2.5-py3-none-any.whl.metadata (5.0 kB)\n",
      "Requirement already satisfied: python-dateutil>=2.7 in e:\\onedrive\\documents\\deeplearning\\gams-jupyterbook1\\jbook-env\\lib\\site-packages (from matplotlib) (2.9.0.post0)\n",
      "Requirement already satisfied: six>=1.5 in e:\\onedrive\\documents\\deeplearning\\gams-jupyterbook1\\jbook-env\\lib\\site-packages (from python-dateutil>=2.7->matplotlib) (1.17.0)\n",
      "Requirement already satisfied: mpmath<1.4,>=1.1.0 in e:\\onedrive\\documents\\deeplearning\\gams-jupyterbook1\\jbook-env\\lib\\site-packages (from sympy>=1.13.3->torch) (1.3.0)\n",
      "Requirement already satisfied: MarkupSafe>=2.0 in e:\\onedrive\\documents\\deeplearning\\gams-jupyterbook1\\jbook-env\\lib\\site-packages (from jinja2->torch) (3.0.3)\n",
      "Downloading matplotlib-3.10.7-cp313-cp313-win_amd64.whl (8.1 MB)\n",
      "   ---------------------------------------- 0.0/8.1 MB ? eta -:--:--\n",
      "   ------ --------------------------------- 1.3/8.1 MB 7.6 MB/s eta 0:00:01\n",
      "   ------------------------------------- -- 7.6/8.1 MB 20.9 MB/s eta 0:00:01\n",
      "   ---------------------------------------- 8.1/8.1 MB 18.8 MB/s eta 0:00:00\n",
      "Downloading contourpy-1.3.3-cp313-cp313-win_amd64.whl (226 kB)\n",
      "Using cached cycler-0.12.1-py3-none-any.whl (8.3 kB)\n",
      "Downloading fonttools-4.60.1-cp313-cp313-win_amd64.whl (2.3 MB)\n",
      "   ---------------------------------------- 0.0/2.3 MB ? eta -:--:--\n",
      "   ---------------------------------------- 2.3/2.3 MB 84.8 MB/s eta 0:00:00\n",
      "Downloading kiwisolver-1.4.9-cp313-cp313-win_amd64.whl (73 kB)\n",
      "Downloading pyparsing-3.2.5-py3-none-any.whl (113 kB)\n",
      "Installing collected packages: pyparsing, kiwisolver, fonttools, cycler, contourpy, matplotlib\n",
      "Successfully installed contourpy-1.3.3 cycler-0.12.1 fonttools-4.60.1 kiwisolver-1.4.9 matplotlib-3.10.7 pyparsing-3.2.5\n",
      "Note: you may need to restart the kernel to use updated packages.\n"
     ]
    },
    {
     "name": "stderr",
     "output_type": "stream",
     "text": [
      "\n",
      "[notice] A new release of pip is available: 24.3.1 -> 25.2\n",
      "[notice] To update, run: python.exe -m pip install --upgrade pip\n"
     ]
    }
   ],
   "source": [
    "%pip install torch torchvision matplotlib"
   ]
  },
  {
   "cell_type": "code",
   "execution_count": 8,
   "id": "a2defc30",
   "metadata": {},
   "outputs": [],
   "source": [
    "#Import ibraries\n",
    "\n",
    "import torch.optim as optim\n",
    "from torch.utils.data import DataLoader, random_split\n",
    "from torchvision import datasets, transforms\n",
    "import matplotlib.pyplot as plt\n",
    "import numpy as np\n",
    "import random"
   ]
  },
  {
   "cell_type": "code",
   "execution_count": 9,
   "id": "98d8c26f",
   "metadata": {},
   "outputs": [],
   "source": [
    "#Set seed to 143 for reproducibility\n",
    "\n",
    "def set_seed(seed=143):\n",
    "    torch.manual_seed(seed)\n",
    "    np.random.seed(seed)\n",
    "    random.seed(seed)\n",
    "\n",
    "set_seed(143)"
   ]
  },
  {
   "cell_type": "code",
   "execution_count": 10,
   "id": "150aa69f",
   "metadata": {},
   "outputs": [
    {
     "name": "stderr",
     "output_type": "stream",
     "text": [
      "100.0%\n",
      "100.0%\n",
      "100.0%\n",
      "100.0%\n"
     ]
    }
   ],
   "source": [
    "# Load MNIST dataset\n",
    "\n",
    "transform = transforms.ToTensor()\n",
    "\n",
    "train_data = datasets.MNIST(root=\"data\", train=True, download=True, transform=transform)\n",
    "test_data  = datasets.MNIST(root=\"data\", train=False, download=True, transform=transform)\n",
    "\n",
    "train_set, val_set = random_split(train_data, [50000, 10000])\n",
    "\n",
    "# Data loaders:\n",
    "batch_size = 64\n",
    "train_loader = DataLoader(train_set, batch_size=batch_size, shuffle=True)\n",
    "val_loader   = DataLoader(val_set, batch_size=batch_size, shuffle=False)\n",
    "test_loader  = DataLoader(test_data, batch_size=batch_size, shuffle=False)"
   ]
  },
  {
   "cell_type": "code",
   "execution_count": 11,
   "id": "0a9ddde2",
   "metadata": {},
   "outputs": [],
   "source": [
    "#Let's define CNN Model\n",
    "\n",
    "class CNNModel(nn.Module):\n",
    "    def __init__(self):\n",
    "        super(CNNModel, self).__init__()\n",
    "\n",
    "        self.conv1 = nn.Conv2d(1, 32, kernel_size=3, stride=1, padding=1)\n",
    "        self.pool1 = nn.MaxPool2d(2, 2, padding=1)\n",
    "\n",
    "        self.conv2 = nn.Conv2d(32, 64, kernel_size=3, stride=1, padding=1)\n",
    "        self.conv3 = nn.Conv2d(64, 128, kernel_size=3, stride=1, padding=1)\n",
    "        self.conv4 = nn.Conv2d(128, 256, kernel_size=3, stride=1, padding=1)\n",
    "        self.pool2 = nn.MaxPool2d(2, 2)\n",
    "\n",
    "        self.dropout = nn.Dropout(0.2)\n",
    "\n",
    "        self.fc1 = nn.Linear(256 * 7 * 7, 1000)\n",
    "        self.fc2 = nn.Linear(1000, 500)\n",
    "        self.fc3 = nn.Linear(500, 10)\n",
    "\n",
    "    def forward(self, x):\n",
    "        x = F.relu(self.conv1(x))\n",
    "        x = self.pool1(x)\n",
    "\n",
    "        x = F.relu(self.conv2(x))\n",
    "        x = F.relu(self.conv3(x))\n",
    "        x = F.relu(self.conv4(x))\n",
    "        x = self.pool2(x)\n",
    "\n",
    "        x = self.dropout(x)\n",
    "        x = x.view(x.size(0), -1)  # flatten\n",
    "\n",
    "        x = F.relu(self.fc1(x))\n",
    "        x = F.relu(self.fc2(x))\n",
    "        x = self.fc3(x)\n",
    "\n",
    "        return x"
   ]
  },
  {
   "cell_type": "code",
   "execution_count": 12,
   "id": "2fcc675b",
   "metadata": {},
   "outputs": [],
   "source": [
    "#training CNN model\n",
    "\n",
    "device = torch.device(\"cuda\" if torch.cuda.is_available() else \"cpu\")\n",
    "model = CNNModel().to(device)\n",
    "\n",
    "criterion = nn.CrossEntropyLoss()  # loss for classification\n",
    "optimizer = optim.Adam(model.parameters(), lr=0.001)"
   ]
  },
  {
   "cell_type": "code",
   "execution_count": 13,
   "id": "a952a1d7",
   "metadata": {},
   "outputs": [],
   "source": [
    "#Loop\n",
    "\n",
    "def train_model(model, train_loader, val_loader, criterion, optimizer, epochs=5):\n",
    "    train_losses, val_losses, val_accs = [], [], []\n",
    "\n",
    "    for epoch in range(epochs):\n",
    "        # ---- Training ----\n",
    "        model.train()\n",
    "        running_loss = 0\n",
    "        for images, labels in train_loader:\n",
    "            images, labels = images.to(device), labels.to(device)\n",
    "\n",
    "            optimizer.zero_grad()\n",
    "            outputs = model(images)\n",
    "            loss = criterion(outputs, labels)\n",
    "            loss.backward()\n",
    "            optimizer.step()\n",
    "\n",
    "            running_loss += loss.item()\n",
    "\n",
    "        avg_train_loss = running_loss / len(train_loader)\n",
    "\n",
    "        # ---- Validation ----\n",
    "        model.eval()\n",
    "        val_loss, correct = 0, 0\n",
    "        with torch.no_grad():\n",
    "            for images, labels in val_loader:\n",
    "                images, labels = images.to(device), labels.to(device)\n",
    "                outputs = model(images)\n",
    "                loss = criterion(outputs, labels)\n",
    "                val_loss += loss.item()\n",
    "\n",
    "                preds = torch.argmax(outputs, dim=1)\n",
    "                correct += (preds == labels).sum().item()\n",
    "\n",
    "        avg_val_loss = val_loss / len(val_loader)\n",
    "        accuracy = correct / len(val_loader.dataset)\n",
    "\n",
    "        train_losses.append(avg_train_loss)\n",
    "        val_losses.append(avg_val_loss)\n",
    "        val_accs.append(accuracy)\n",
    "\n",
    "        print(f\"Epoch [{epoch+1}/{epochs}] \"\n",
    "              f\"Training Loss: {avg_train_loss:.4f} \"\n",
    "              f\"Validation Loss: {avg_val_loss:.4f} \"\n",
    "              f\"Validation Accuracy: {accuracy:.4f}\")\n",
    "\n",
    "    return train_losses, val_losses, val_accs"
   ]
  },
  {
   "cell_type": "code",
   "execution_count": 14,
   "id": "1448b641",
   "metadata": {},
   "outputs": [
    {
     "name": "stdout",
     "output_type": "stream",
     "text": [
      "Epoch [1/5] Training Loss: 0.1721 Validation Loss: 0.0518 Validation Accuracy: 0.9849\n",
      "Epoch [2/5] Training Loss: 0.0510 Validation Loss: 0.0474 Validation Accuracy: 0.9860\n",
      "Epoch [3/5] Training Loss: 0.0358 Validation Loss: 0.0425 Validation Accuracy: 0.9879\n",
      "Epoch [4/5] Training Loss: 0.0271 Validation Loss: 0.0347 Validation Accuracy: 0.9902\n",
      "Epoch [5/5] Training Loss: 0.0244 Validation Loss: 0.0305 Validation Accuracy: 0.9906\n"
     ]
    }
   ],
   "source": [
    "#Training Loop (Execute)\n",
    "\n",
    "train_losses, val_losses, val_accs = train_model(model, train_loader, val_loader, criterion, optimizer, epochs=5)"
   ]
  },
  {
   "cell_type": "markdown",
   "id": "c75a5b95",
   "metadata": {},
   "source": [
    "The model trained on the MNIST dataset exhibited steady improvement throughout the five epochs. The training loss decreased significantly from 0.1721 to 0.0244, while the validation loss also declined from 0.0518 to 0.0305. Validation accuracy started strong at 98.5% and gradually increased to 99.1%, showing that the model continued to learn effectively with minimal overfitting. Both training and validation metrics followed a consistent downward trend, suggesting stable learning and good generalization to unseen data. With further tuning or additional epochs, the model’s performance could likely be improved even more."
   ]
  },
  {
   "cell_type": "code",
   "execution_count": 15,
   "id": "5d5a2f31",
   "metadata": {},
   "outputs": [
    {
     "data": {
      "image/png": "[encoded data removed]",
      "text/plain": [
       "<Figure size 1200x400 with 2 Axes>"
      ]
     },
     "metadata": {},
     "output_type": "display_data"
    }
   ],
   "source": [
    "#visualization\n",
    "\n",
    "plt.figure(figsize=(12,4))\n",
    "\n",
    "# Loss plot\n",
    "plt.subplot(1,2,1)\n",
    "plt.plot(train_losses, label=\"Train Loss\")\n",
    "plt.plot(val_losses, label=\"Val Loss\")\n",
    "plt.legend()\n",
    "plt.title(\"Loss per Epoch\")\n",
    "\n",
    "# Accuracy plot\n",
    "plt.subplot(1,2,2)\n",
    "plt.plot(val_accs, label=\"Val Accuracy\")\n",
    "plt.legend()\n",
    "plt.title(\"Validation Accuracy per Epoch\")\n",
    "\n",
    "plt.show()"
   ]
  },
  {
   "cell_type": "markdown",
   "id": "3ab0a86c",
   "metadata": {},
   "source": [
    "**Loss per Epoch:**\n",
    "The training loss shows a clear downward trend across all five epochs, indicating that the model steadily learns from the data and improves its internal representations. The validation loss remains slightly lower than the training loss and continues to decrease, suggesting that the model maintains stability and avoids overfitting. Both curves converge smoothly at low values, reflecting efficient learning and optimization.\n",
    "\n",
    "**Validation Accuracy per Epoch:**\n",
    "Validation accuracy increases consistently from the first to the final epoch, starting at around 98.5% and climbing to approximately 99.1%. This steady upward progression, without any noticeable drops, demonstrates that the model continues to refine its predictions and becomes more accurate with each training cycle.\n",
    "\n",
    "**Overall Inference:**\n",
    "The consistent reduction in both training and validation losses, coupled with the continuous rise in validation accuracy, highlights the model’s strong learning behavior and generalization ability. The final results suggest that the CNN trained on the MNIST dataset performs reliably and efficiently, achieving high accuracy with minimal signs of underfitting or overfitting."
   ]
  },
  {
   "cell_type": "code",
   "execution_count": 16,
   "id": "c5d995e9",
   "metadata": {},
   "outputs": [
    {
     "name": "stdout",
     "output_type": "stream",
     "text": [
      "Test Accuracy: 0.9913\n"
     ]
    }
   ],
   "source": [
    "# Test Model Accuracy\n",
    "\n",
    "model.eval()\n",
    "correct = 0\n",
    "with torch.no_grad():\n",
    "    for images, labels in test_loader:\n",
    "        images, labels = images.to(device), labels.to(device)\n",
    "        outputs = model(images)\n",
    "        preds = torch.argmax(outputs, dim=1)\n",
    "        correct += (preds == labels).sum().item()\n",
    "\n",
    "test_acc = correct / len(test_loader.dataset)\n",
    "print(f\"Test Accuracy: {test_acc:.4f}\")"
   ]
  },
  {
   "cell_type": "markdown",
   "id": "40da90f7",
   "metadata": {},
   "source": [
    "**Test ACCURACY:**\n",
    "\n",
    "When evaluated on the independent test dataset, the model achieved an accuracy of 0.9913 (99.13%). This closely matches the validation accuracy observed during training, indicating that the model performs consistently well on new, unseen data. The strong alignment among the training, validation, and testing results demonstrates that the model has achieved a well-balanced fit, showing no significant signs of either overfitting or underfitting."
   ]
  },
  {
   "cell_type": "markdown",
   "id": "5f7c690b",
   "metadata": {},
   "source": [
    "With both training and validation losses decreasing smoothly, validation accuracy showing steady improvement, and the test accuracy reaching 99.13%, the results indicate that the model is robust and dependable for handwritten digit recognition. Together, the loss curves, validation accuracy trend, and final test performance demonstrate that the model not only learned effectively but also generalizes well to unseen data."
   ]
  },
  {
   "cell_type": "markdown",
   "id": "3bb0f6c0",
   "metadata": {},
   "source": [
    "**KEY FINDINGS AND OBSERVATION  :**\n",
    "\n",
    "From this activity, we saw that even a simple neural network can achieve high accuracy on the MNIST dataset. Training and validation losses decreased smoothly, while validation accuracy steadily improved, showing effective learning without overfitting. The final test accuracy of 99.13% confirmed that the model generalizes well to unseen data.\n",
    "\n",
    "The main takeaway is that tracking loss and accuracy helps us understand how the model learns and whether it’s improving in the right direction. Even after just five epochs, the model performed excellently, proving that more training isn’t always necessary.\n",
    "\n",
    "In short, this task highlighted the power of neural networks for image classification and the importance of reading training curves to see what’s happening under the hood.\n",
    "\n"
   ]
  },
  {
   "cell_type": "markdown",
   "id": "2b18ffdb",
   "metadata": {},
   "source": [
    "## Visualizing Model Prediction"
   ]
  },
  {
   "cell_type": "code",
   "execution_count": 20,
   "id": "41a377c3",
   "metadata": {},
   "outputs": [],
   "source": [
    "# Acknowledgment: Code adapted from Chris Jallaine Mugot.\n",
    "\n",
    "def show_predictions(model, loader, n=10):\n",
    "    model.eval()\n",
    "    images, labels = next(iter(loader))  # take one batch\n",
    "    images, labels = images.to(device), labels.to(device)\n",
    "\n",
    "    with torch.no_grad():\n",
    "        outputs = model(images)\n",
    "        preds = torch.argmax(outputs, dim=1)\n",
    "\n",
    "    # Move to CPU for plotting\n",
    "    images = images.cpu()\n",
    "    preds = preds.cpu()\n",
    "    labels = labels.cpu()\n",
    "\n",
    "    fig, axs = plt.subplots(1, n, figsize=(15, 2))\n",
    "    for i in range(n):\n",
    "        axs[i].imshow(images[i][0], cmap=\"gray\")\n",
    "        axs[i].axis(\"off\")\n",
    "        axs[i].set_title(f\"P:{preds[i].item()}\\nT:{labels[i].item()}\",\n",
    "                         color=(\"green\" if preds[i]==labels[i] else \"red\"))\n",
    "    plt.show()"
   ]
  },
  {
   "cell_type": "code",
   "execution_count": 19,
   "id": "06b906b7",
   "metadata": {},
   "outputs": [
    {
     "data": {
      "image/png": "[encoded data removed]",
      "text/plain": [
       "<Figure size 1500x200 with 10 Axes>"
      ]
     },
     "metadata": {},
     "output_type": "display_data"
    }
   ],
   "source": [
    "show_predictions(model, test_loader, n=10)"
   ]
  },
  {
   "cell_type": "markdown",
   "id": "86505322",
   "metadata": {},
   "source": [
    "---"
   ]
  }
 ],
 "metadata": {
  "kernelspec": {
   "display_name": "jbook-env",
   "language": "python",
   "name": "python3"
  },
  "language_info": {
   "codemirror_mode": {
    "name": "ipython",
    "version": 3
   },
   "file_extension": ".py",
   "mimetype": "text/x-python",
   "name": "python",
   "nbconvert_exporter": "python",
   "pygments_lexer": "ipython3",
   "version": "3.13.2"
  }
 },
 "nbformat": 4,
 "nbformat_minor": 5
}
